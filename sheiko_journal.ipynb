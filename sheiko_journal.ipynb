{
 "cells": [
  {
   "cell_type": "markdown",
   "id": "2ff5e47c",
   "metadata": {
    "id": "2ff5e47c"
   },
   "source": [
    "# Sheiko Powerlifting Program Algorithm (WIP)"
   ]
  },
  {
   "cell_type": "markdown",
   "id": "6a44f032",
   "metadata": {
    "id": "6a44f032"
   },
   "source": [
    "## Project Introduction\n",
    "Like any other science, programming for weightlifting follows specific rules and utilizes studied equations and ratios to optimize progression in strength or hypertrophy. Unfortunately, due to the wide range of potential body types, optimal programming differs greatly from person to person, making most cookie cutter programs sub-optimal for growth. As a result, there is a huge market for fitness experts to sell their knowledge in weightlifting programming, with the fitness industry itself being valued at upwards of $4.6bn as of 2022.\n",
    "\n",
    "That being said, this is my attempt on creating an algorithm that can personalize a powerlifting protocol (Sheiko) to your needs. While this simple Jupyter notebook will by no means be a disruptor to the programming industry, I think it's a nifty tool to help you program based off of the research and experience of renowned Russian powerlifting coach Boris Sheiko.\n",
    "\n",
    "### Current Features\n",
    "- IPF Weight Class Calculator\n",
    "- Lifter Classification Calculator based off of Sheiko's classification chart\n",
    "- Load Classification based off of Sheiko's subjective experience\n",
    "- Summary function to display user stats\n",
    "- Beginner Program Generator and Render Function\n",
    "\n",
    "### Planned Features\n",
    "- Better implementation of Program Generator (less statically typed elements)\n",
    "- Intermediate Program Generator\n",
    "- Advanced Program Generator\n",
    "- Options between hypertrophy and strength focus\n",
    "- Prep vs. Competition Program Cycles\n",
    "- PDF and LaTex Implementation"
   ]
  },
  {
   "cell_type": "markdown",
   "id": "334e9de2",
   "metadata": {},
   "source": [
    "### 1. Begin by importing necessary libraries\n",
    "We will be using DataFrames to store our exercise information (reps, sets, weight percentages). While this might seem overkill, I am hoping to utilize the Pandas library for analysis and chartmaking as well."
   ]
  },
  {
   "cell_type": "code",
   "execution_count": 1,
   "id": "bfaebf0c",
   "metadata": {
    "id": "bfaebf0c"
   },
   "outputs": [],
   "source": [
    "import pandas as pd\n",
    "import sheikoalgo as shego"
   ]
  },
  {
   "cell_type": "markdown",
   "id": "42aea467",
   "metadata": {
    "id": "42aea467"
   },
   "source": [
    "### 2. Enter weight and 3 lift total in KG to determine lifter classification based off of Sheiko\n",
    "This will be used for the lifter classification, weight class and load calculations, and for the exercise weight calculations."
   ]
  },
  {
   "cell_type": "code",
   "execution_count": 8,
   "id": "e16b0b2c",
   "metadata": {
    "id": "e16b0b2c"
   },
   "outputs": [],
   "source": [
    "weight = 59\n",
    "squat = 1\n",
    "bench = 2\n",
    "deadlift = 3\n",
    "lift_total = squat + bench + deadlift"
   ]
  },
  {
   "cell_type": "markdown",
   "id": "0a9655bf",
   "metadata": {
    "id": "0a9655bf"
   },
   "source": [
    "### 3. Calculate IPF Weight Class\n",
    "Rather simple lambda function that finds the differences with your weight and a list of weight class headers. Returns the weight class you are the closest to."
   ]
  },
  {
   "cell_type": "code",
   "execution_count": 3,
   "id": "e135942b",
   "metadata": {
    "id": "e135942b"
   },
   "outputs": [],
   "source": [
    "weight_list = [46,49,59,66,74,83,93,105,120,121]\n",
    "difference = lambda weight_list : abs(weight_list - weight)\n",
    "weight_class = min(weight_list, key=difference)\n",
    "\n",
    "#print(f\"Weight class is: {weight_class}\")"
   ]
  },
  {
   "cell_type": "markdown",
   "id": "20318941",
   "metadata": {
    "id": "20318941"
   },
   "source": [
    "### 4. Find lifter classification based on weight class and total lift. \n",
    "Classifications are based off of this chart by Sheiko: \n",
    "<img src=\"../assets/images/class_chart.jpeg\" alt=\"classification chart\" width=\"500\"/>"
   ]
  },
  {
   "cell_type": "code",
   "execution_count": 4,
   "id": "2845a6c0",
   "metadata": {
    "id": "2845a6c0"
   },
   "outputs": [],
   "source": [
    "class_headers = {46:[295,267.5,222.5,195,177.5,152.5,135]}\n",
    "tmp_list = class_headers[weight_class]\n",
    "difference = lambda tmp_list : abs(tmp_list - lift_total)\n",
    "relative_total = min(tmp_list, key=difference)\n",
    "#print(f\"Relative Total: {relative_total}\")\n",
    "\n",
    "classifications = {46:{295:\"CMS\",267.5:\"I\",222.5:\"II\",195:\"III\",177.5:\"I Junior\",152.5:\"II Junior\",135:\"III Junior\"},\n",
    "                   49:{315:\"CMS\",282.5:\"I\",237.5:\"II\",215:\"III\",192.5:\"I Junior\",175:\"152.5\",150:\"III Junior\"},\n",
    "                   53:{450:\"MSIC\",387.5:\"MS\",335:\"CMS\",295:\"I\",252.5:\"II\",230:\"III\",205:\"I Junior\",185:\"II Junior\",170:\"III Junior\"},\n",
    "                   59:{512.5:\"MSIC\",417.5:\"MS\",362.5:\"CMS\",315:\"I\",272.5:\"II\",255:\"III\",232.5:\"I Junior\",212.5:\"II Junior\",190:\"III Junior\"},\n",
    "                   66:{595:\"MSIC\",475:\"MS\",405:\"CMS\",345:\"I\",302.5:\"II\",287.5:\"III\",260:\"I Junior\",237.5:\"II Junior\",210:\"III Junior\"},\n",
    "                   74:{667.5:\"MSIC\",532:\"MS\",452.5:\"CMS\",382.5:\"I\",335:\"II\",307.5:\"III\",282.5:\"I Junior\",255:\"II Junior\",230:\"III Junior\"},\n",
    "                   83:{745:\"MSIC\",585:\"MS\",497.5:\"CMS\",415:\"I\",377.5:\"II\",352.5:\"III\",325:\"I Junior\",282.5:\"II Junior\",255:\"III Junior\"},\n",
    "                   93:{790:\"MSIC\",627.5:\"MS\",532.5:\"CMS\",462.5:\"I\",417.5:\"II\",372.5:\"III\",342.5:\"I Junior\",305:\"II Junior\",280:\"III Junior\"},\n",
    "                   105:{827.5:\"MSIC\",665:\"MS\",567.5:\"CMS\",500:\"I\",447.5:\"II\",417.5:\"III\",365:\"I Junior\",332.5:\"II Junior\",305:\"III Junior\"},\n",
    "                   120:{860:\"MSIC\",707.5:\"MS\",602.5:\"CMS\",527.5:\"I\",472.5:\"II\",437.5:\"III\",385:\"I Junior\",345:\"II Junior\",325:\"III Junior\"},\n",
    "                   }\n",
    "lifter_classification = classifications[weight_class][relative_total]\n",
    "#print(f\"Classification is: {lifter_classification}\")\n",
    "\n",
    "program_type = \"\"\n",
    "if lifter_classification in [\"CMS\",\"MS\", \"MSIC\"]:\n",
    "  program_type = \"Advanced\"\n",
    "elif lifter_classification in [\"II\", \"I\"]:\n",
    "  program_type = \"Intermediate\"\n",
    "else:\n",
    "  program_type = \"Beginner\"  \n",
    "#print(f\"Program type: {program_type}\")"
   ]
  },
  {
   "cell_type": "markdown",
   "id": "DwObuQCYGjqO",
   "metadata": {
    "id": "DwObuQCYGjqO"
   },
   "source": [
    "### 5. Find load classification using bodyweight\n",
    "This is based off of anecdotal evidence from Sheiko's book"
   ]
  },
  {
   "cell_type": "code",
   "execution_count": 5,
   "id": "txRxZCpRGioX",
   "metadata": {
    "id": "txRxZCpRGioX"
   },
   "outputs": [],
   "source": [
    "load_class = \"\"\n",
    "if weight_class <= 80:\n",
    "  load_class = \"Large\"\n",
    "elif (weight_class > 80) and (weight_class < 110):\n",
    "  load_class = \"Medium\"\n",
    "else:\n",
    "  load_class = \"Small\"\n",
    "#print(f\"Load class: {load_class}\")"
   ]
  },
  {
   "cell_type": "markdown",
   "id": "hnggEGf1GKEs",
   "metadata": {
    "id": "hnggEGf1GKEs"
   },
   "source": [
    "### 6. Summary display of all the user data"
   ]
  },
  {
   "cell_type": "code",
   "execution_count": 6,
   "id": "60e0b18a",
   "metadata": {
    "colab": {
     "base_uri": "https://localhost:8080/"
    },
    "id": "60e0b18a",
    "outputId": "6e70d6bb-c447-4675-f5c1-c2dc28dadd90"
   },
   "outputs": [
    {
     "name": "stdout",
     "output_type": "stream",
     "text": [
      "Weight class is: 46\n",
      "Relative Total: 135\n",
      "Classification is: III Junior\n",
      "Program type: Beginner\n",
      "Load class: Large\n"
     ]
    }
   ],
   "source": [
    "print(f\"Weight class is: {weight_class}\")\n",
    "print(f\"Relative Total: {relative_total}\")\n",
    "print(f\"Classification is: {lifter_classification}\")\n",
    "print(f\"Program type: {program_type}\")\n",
    "print(f\"Load class: {load_class}\")"
   ]
  },
  {
   "cell_type": "markdown",
   "id": "MYSel-lPHRSZ",
   "metadata": {
    "id": "MYSel-lPHRSZ"
   },
   "source": [
    "### 7. Render Program based off of Lifter Classification and Load Type (WIP)\n",
    "- Only have the beginner programs implemented at the moment\n",
    "- Program rendering is a basic print function ATM. Will be updating to include LaTex and PDF exporting support\n",
    "- Working on a easier way to program different exercises"
   ]
  },
  {
   "cell_type": "code",
   "execution_count": 7,
   "id": "LxmYWecxHxE0",
   "metadata": {
    "colab": {
     "base_uri": "https://localhost:8080/"
    },
    "id": "LxmYWecxHxE0",
    "outputId": "71141d7f-ff5e-4b9f-a9db-ab88a3994827"
   },
   "outputs": [
    {
     "name": "stdout",
     "output_type": "stream",
     "text": [
      "Week 1\n",
      "Day 1\n",
      "   Squat  Reps  Bench  Reps Chest Accessory  Reps\n",
      "0   22.5   5.0  22.50     5                   8.0\n",
      "1   27.0   5.0  27.00     4                   8.0\n",
      "2   31.5   4.0  31.50     3                   8.0\n",
      "3   31.5   4.0  33.75     3                   8.0\n",
      "4   31.5   4.0  33.75     3             NaN   NaN\n",
      "5   31.5   4.0  33.75     3             NaN   NaN\n",
      "6    NaN   NaN  33.75     3             NaN   NaN\n",
      "\n",
      "\n",
      "\n",
      "\n",
      "Day 2\n",
      "   Deadlift  Reps Incline Bench Press  Reps Seated Rows  Reps  Box Deadlift  \\\n",
      "0     22.50     3                       3.0               8.0         24.75   \n",
      "1     27.00     3                       3.0               8.0         29.25   \n",
      "2     31.50     3                       3.0               8.0         33.75   \n",
      "3     33.75     2                       3.0               8.0         38.25   \n",
      "4     33.75     2                       3.0               8.0         38.25   \n",
      "5     33.75     2                 NaN   NaN         NaN   NaN         38.25   \n",
      "6     33.75     2                 NaN   NaN         NaN   NaN           NaN   \n",
      "\n",
      "   Reps Ab Accessory  Reps  \n",
      "0   3.0               10.0  \n",
      "1   3.0               10.0  \n",
      "2   3.0               10.0  \n",
      "3   2.0          NaN   NaN  \n",
      "4   2.0          NaN   NaN  \n",
      "5   2.0          NaN   NaN  \n",
      "6   NaN          NaN   NaN  \n",
      "\n",
      "\n",
      "\n",
      "\n",
      "Day 3\n",
      "   Squat  Reps  Bench  Reps Chest Accessory  Reps Triceps  Reps Good Morning  \\\n",
      "0  22.50     5   22.5     5                   8.0           6.0                \n",
      "1  27.00     4   27.0     4                   8.0           6.0                \n",
      "2  31.50     3   31.5     3                   8.0           6.0                \n",
      "3  33.75     3   36.0     2                   8.0           6.0                \n",
      "4  33.75     3   36.0     2             NaN   NaN     NaN   NaN                \n",
      "5  33.75     3   36.0     2             NaN   NaN     NaN   NaN          NaN   \n",
      "6  33.75     3   36.0     2             NaN   NaN     NaN   NaN          NaN   \n",
      "\n",
      "   Reps  \n",
      "0   5.0  \n",
      "1   5.0  \n",
      "2   5.0  \n",
      "3   5.0  \n",
      "4   5.0  \n",
      "5   NaN  \n",
      "6   NaN  \n",
      "\n",
      "\n",
      "\n",
      "\n",
      "Week 2\n",
      "Day 1\n",
      "   Squat  Reps  Bench  Reps Lat Accessory  Reps Dips  Reps Back Extension  \\\n",
      "0   22.5   5.0   22.5     5                 8.0        6.0                  \n",
      "1   27.0   4.0   27.0     4                 8.0        6.0                  \n",
      "2   31.5   3.0   31.5     3                 8.0        6.0                  \n",
      "3   36.0   2.0   36.0     3                 8.0        6.0                  \n",
      "4   36.0   2.0   36.0     3           NaN   NaN  NaN   NaN            NaN   \n",
      "5   36.0   2.0   36.0     3           NaN   NaN  NaN   NaN            NaN   \n",
      "6   36.0   2.0   36.0     3           NaN   NaN  NaN   NaN            NaN   \n",
      "7    NaN   NaN   36.0     3           NaN   NaN  NaN   NaN            NaN   \n",
      "\n",
      "   Reps  \n",
      "0   8.0  \n",
      "1   8.0  \n",
      "2   8.0  \n",
      "3   8.0  \n",
      "4   NaN  \n",
      "5   NaN  \n",
      "6   NaN  \n",
      "7   NaN  \n",
      "\n",
      "\n",
      "\n",
      "\n",
      "Day 2\n",
      "   Deadlift  Reps  Bench  Reps  Box Deadlift  Reps Chest Accessory  Reps  \\\n",
      "0     22.50     3  22.50   6.0         24.75   4.0                   8.0   \n",
      "1     27.00     3  27.00   6.0         29.25   4.0                   8.0   \n",
      "2     31.50     3  29.25   6.0         33.75   4.0                   8.0   \n",
      "3     33.75     2  29.25   6.0         33.75   4.0                   8.0   \n",
      "4     33.75     2  29.25   6.0         33.75   4.0             NaN   NaN   \n",
      "5     33.75     2  29.25   6.0         33.75   4.0             NaN   NaN   \n",
      "6     33.75     2    NaN   NaN           NaN   NaN             NaN   NaN   \n",
      "\n",
      "  Delt Accessory  Reps  \n",
      "0                  6.0  \n",
      "1                  6.0  \n",
      "2                  6.0  \n",
      "3                  6.0  \n",
      "4            NaN   NaN  \n",
      "5            NaN   NaN  \n",
      "6            NaN   NaN  \n",
      "\n",
      "\n",
      "\n",
      "\n",
      "Day 3\n",
      "   Squat  Reps  Close Grip Bench  Reps Seated Row  Reps Tricep Accessory  \\\n",
      "0   22.5     5              22.5     3              8.0                    \n",
      "1   27.0     5              27.0     3              8.0                    \n",
      "2   31.5     4              31.5     3              8.0                    \n",
      "3   31.5     4              31.5     3              8.0                    \n",
      "4   31.5     4              31.5     3        NaN   NaN              NaN   \n",
      "5   31.5     4              31.5     3        NaN   NaN              NaN   \n",
      "\n",
      "   Reps Back Extension  Reps  \n",
      "0   8.0                  8.0  \n",
      "1   8.0                  8.0  \n",
      "2   8.0                  8.0  \n",
      "3   8.0                  8.0  \n",
      "4   NaN            NaN   NaN  \n",
      "5   NaN            NaN   NaN  \n",
      "\n",
      "\n",
      "\n",
      "\n",
      "Week 3\n",
      "Day 1\n",
      "   Squat  Reps  Bench  Reps Chest Accessory  Reps DB Bench Press  Reps  \\\n",
      "0  22.50   5.0   22.5     5                   8.0                  6.0   \n",
      "1  27.00   4.0   27.0     4                   8.0                  6.0   \n",
      "2  31.50   3.0   31.5     3                   8.0                  6.0   \n",
      "3  33.75   3.0   36.0     2                   8.0                  6.0   \n",
      "4  33.75   3.0   36.0     2             NaN   NaN            NaN   NaN   \n",
      "5  33.75   3.0   36.0     2             NaN   NaN            NaN   NaN   \n",
      "6  33.75   3.0   36.0     2             NaN   NaN            NaN   NaN   \n",
      "7    NaN   NaN   36.0     2             NaN   NaN            NaN   NaN   \n",
      "\n",
      "  Good Morning  Reps  \n",
      "0                5.0  \n",
      "1                5.0  \n",
      "2                5.0  \n",
      "3                5.0  \n",
      "4                5.0  \n",
      "5          NaN   NaN  \n",
      "6          NaN   NaN  \n",
      "7          NaN   NaN  \n",
      "\n",
      "\n",
      "\n",
      "\n",
      "Day 2\n",
      "   Deficit Deadlift  Reps  Bench  Reps  Box Deadlift  Reps Seated Rows  Reps  \\\n",
      "0             22.50   3.0  22.50     5          27.0   3.0               6.0   \n",
      "1             27.00   3.0  27.00     4          31.5   3.0               6.0   \n",
      "2             29.25   2.0  31.50     3          36.0   3.0               6.0   \n",
      "3             29.25   2.0  36.00     3          36.0   3.0               6.0   \n",
      "4             29.25   2.0  36.00     3          40.5   2.0         NaN   NaN   \n",
      "5             29.25   2.0  38.25     2          40.5   2.0         NaN   NaN   \n",
      "6               NaN   NaN  38.25     2          40.5   2.0         NaN   NaN   \n",
      "7               NaN   NaN  38.25     2           NaN   NaN         NaN   NaN   \n",
      "\n",
      "  Abs Accessory  Reps  \n",
      "0                10.0  \n",
      "1                10.0  \n",
      "2                10.0  \n",
      "3           NaN   NaN  \n",
      "4           NaN   NaN  \n",
      "5           NaN   NaN  \n",
      "6           NaN   NaN  \n",
      "7           NaN   NaN  \n",
      "\n",
      "\n",
      "\n",
      "\n",
      "Day 3\n",
      "   Squat  Reps  Decline Bench  Reps Chest Accessory  Reps Tricep Accessory  \\\n",
      "0   22.5     5           22.5   4.0                   8.0                    \n",
      "1   27.0     4           27.0   4.0                   8.0                    \n",
      "2   31.5     3           31.5   4.0                   8.0                    \n",
      "3   36.0     2           31.5   4.0                   8.0                    \n",
      "4   36.0     2           31.5   4.0             NaN   NaN              NaN   \n",
      "5   36.0     2           31.5   4.0             NaN   NaN              NaN   \n",
      "6   36.0     2            NaN   NaN             NaN   NaN              NaN   \n",
      "\n",
      "   Reps  \n",
      "0   8.0  \n",
      "1   8.0  \n",
      "2   8.0  \n",
      "3   8.0  \n",
      "4   NaN  \n",
      "5   NaN  \n",
      "6   NaN  \n",
      "\n",
      "\n",
      "\n",
      "\n",
      "Week 4\n",
      "Day 1\n",
      "   Squat  Reps  Bench  Reps Lat Accessory  Reps DB Curls  Reps Back Extension  \\\n",
      "0  22.50     5   22.5     5                 8.0            6.0                  \n",
      "1  27.00     4   27.0     4                 8.0            6.0                  \n",
      "2  31.50     3   31.5     3                 8.0            6.0                  \n",
      "3  36.00     2   36.0     3                 8.0            6.0                  \n",
      "4  36.00     2   36.0     3           NaN   NaN      NaN   NaN            NaN   \n",
      "5  38.25     2   36.0     3           NaN   NaN      NaN   NaN            NaN   \n",
      "6  38.25     2   36.0     3           NaN   NaN      NaN   NaN            NaN   \n",
      "7  38.25     2   36.0     3           NaN   NaN      NaN   NaN            NaN   \n",
      "\n",
      "   Reps  \n",
      "0   8.0  \n",
      "1   8.0  \n",
      "2   8.0  \n",
      "3   8.0  \n",
      "4   NaN  \n",
      "5   NaN  \n",
      "6   NaN  \n",
      "7   NaN  \n",
      "\n",
      "\n",
      "\n",
      "\n",
      "Day 2\n",
      "   Bench  Reps  Pause Deadlift  Reps Chest Accessory  Reps Delt Accessory  \\\n",
      "0  22.50     5           22.50   2.0                   8.0                  \n",
      "1  27.00     4           27.00   2.0                   8.0                  \n",
      "2  31.50     3           31.50   2.0                   8.0                  \n",
      "3  36.00     3           31.50   2.0                   8.0                  \n",
      "4  38.25     2           33.75   1.0             NaN   NaN            NaN   \n",
      "5  38.25     2           33.75   1.0             NaN   NaN            NaN   \n",
      "6  38.25     2           33.75   1.0             NaN   NaN            NaN   \n",
      "7  38.25     2             NaN   NaN             NaN   NaN            NaN   \n",
      "\n",
      "   Reps Abs Accessory  Reps  \n",
      "0   6.0                10.0  \n",
      "1   6.0                10.0  \n",
      "2   6.0                10.0  \n",
      "3   6.0           NaN   NaN  \n",
      "4   NaN           NaN   NaN  \n",
      "5   NaN           NaN   NaN  \n",
      "6   NaN           NaN   NaN  \n",
      "7   NaN           NaN   NaN  \n",
      "\n",
      "\n",
      "\n",
      "\n",
      "Day 3\n",
      "   Squat  Reps  Bench  Reps Tricep Accessory  Reps Good Morning  Reps\n",
      "0  22.50     5   22.5     4                    8.0                5.0\n",
      "1  29.25     4   27.0     4                    8.0                5.0\n",
      "2  33.75     3   31.5     4                    8.0                5.0\n",
      "3  33.75     3   31.5     4                    8.0                5.0\n",
      "4  33.75     3   31.5     4              NaN   NaN          NaN   NaN\n",
      "5  33.75     3   31.5     4              NaN   NaN          NaN   NaN\n",
      "\n",
      "\n",
      "\n",
      "\n"
     ]
    }
   ],
   "source": [
    "if program_type == \"Beginner\":\n",
    "    shego.render_beginner(squat,bench,deadlift)\n",
    "if program_type == \"Intermediate\":\n",
    "    #\n"
   ]
  }
 ],
 "metadata": {
  "colab": {
   "provenance": []
  },
  "kernelspec": {
   "display_name": "Python 3 (ipykernel)",
   "language": "python",
   "name": "python3"
  },
  "language_info": {
   "codemirror_mode": {
    "name": "ipython",
    "version": 3
   },
   "file_extension": ".py",
   "mimetype": "text/x-python",
   "name": "python",
   "nbconvert_exporter": "python",
   "pygments_lexer": "ipython3",
   "version": "3.9.13"
  },
  "vscode": {
   "interpreter": {
    "hash": "1a1af0ee75eeea9e2e1ee996c87e7a2b11a0bebd85af04bb136d915cefc0abce"
   }
  }
 },
 "nbformat": 4,
 "nbformat_minor": 5
}
