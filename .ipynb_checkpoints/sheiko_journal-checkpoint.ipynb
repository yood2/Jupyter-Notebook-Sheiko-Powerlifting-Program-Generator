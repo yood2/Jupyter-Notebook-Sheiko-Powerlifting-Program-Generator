{
 "cells": [
  {
   "cell_type": "markdown",
   "id": "2ff5e47c",
   "metadata": {
    "id": "2ff5e47c"
   },
   "source": [
    "# Sheiko Powerlifting Program Algorithm (WIP)"
   ]
  },
  {
   "cell_type": "markdown",
   "id": "6a44f032",
   "metadata": {
    "id": "6a44f032"
   },
   "source": [
    "## Project Introduction\n",
    "Like any other science, programming for weightlifting follows specific rules and utilizes studied equations and ratios to optimize progression in strength or hypertrophy. Unfortunately, due to the wide range of potential body types, optimal programming differs greatly from person to person, making most cookie cutter programs sub-optimal for growth. As a result, there is a huge market for fitness experts to sell their knowledge in weightlifting programming, with the fitness industry itself being valued at upwards of $4.6bn as of 2022.\n",
    "\n",
    "That being said, this is my attempt on creating an algorithm that can personalize a powerlifting protocol (Sheiko) to your needs. While this simple Jupyter notebook will by no means be a disruptor to the programming industry, I think it's a nifty tool to help you program based off of the research and experience of renowned Russian powerlifting coach Boris Sheiko.\n",
    "\n",
    "### Current Features\n",
    "- IPF Weight Class Calculator\n",
    "- Lifter Classification Calculator based off of Sheiko's classification chart\n",
    "- Load Classification based off of Sheiko's subjective experience\n",
    "- Summary function to display user stats\n",
    "- Beginner Program Generator and Render Function\n",
    "\n",
    "### Planned Features\n",
    "- Better implementation of Program Generator (less statically typed elements)\n",
    "- Intermediate Program Generator\n",
    "- Advanced Program Generator\n",
    "- Options between hypertrophy and strength focus\n",
    "- Prep vs. Competition Program Cycles\n",
    "- PDF and LaTex Implementation"
   ]
  },
  {
   "cell_type": "markdown",
   "id": "334e9de2",
   "metadata": {},
   "source": [
    "### 1. Begin by importing necessary libraries\n",
    "We will be using DataFrames to store our exercise information (reps, sets, weight percentages). While this might seem overkill, I am hoping to utilize the Pandas library for analysis and chartmaking as well."
   ]
  },
  {
   "cell_type": "code",
   "execution_count": 15,
   "id": "bfaebf0c",
   "metadata": {
    "id": "bfaebf0c"
   },
   "outputs": [],
   "source": [
    "import pandas as pd\n",
    "import sheikoalgo as shego"
   ]
  },
  {
   "cell_type": "markdown",
   "id": "42aea467",
   "metadata": {
    "id": "42aea467"
   },
   "source": [
    "### 2. Enter weight and 3 lift total in KG to determine lifter classification based off of Sheiko\n",
    "This will be used for the lifter classification, weight class and load calculations, and for the exercise weight calculations."
   ]
  },
  {
   "cell_type": "code",
   "execution_count": 16,
   "id": "e16b0b2c",
   "metadata": {
    "id": "e16b0b2c"
   },
   "outputs": [],
   "source": [
    "weight = 45\n",
    "squat = 45\n",
    "bench = 45\n",
    "deadlift = 45\n",
    "lift_total = squat + bench + deadlift"
   ]
  },
  {
   "cell_type": "markdown",
   "id": "0a9655bf",
   "metadata": {
    "id": "0a9655bf"
   },
   "source": [
    "### 3. Calculate IPF Weight Class\n",
    "Rather simple lambda function that finds the differences with your weight and a list of weight class headers. Returns the weight class you are the closest to."
   ]
  },
  {
   "cell_type": "code",
   "execution_count": 17,
   "id": "e135942b",
   "metadata": {
    "id": "e135942b"
   },
   "outputs": [],
   "source": [
    "weight_list = [46,49,59,66,74,83,93,105,120,121]\n",
    "difference = lambda weight_list : abs(weight_list - weight)\n",
    "weight_class = min(weight_list, key=difference)\n",
    "\n",
    "#print(f\"Weight class is: {weight_class}\")"
   ]
  },
  {
   "cell_type": "markdown",
   "id": "20318941",
   "metadata": {
    "id": "20318941"
   },
   "source": [
    "### 4. Find lifter classification based on weight class and total lift. \n",
    "Classifications are based off of this chart by Sheiko: \n",
    "<img src=\"../assets/images/class_chart.jpeg\" alt=\"classification chart\" width=\"500\"/>"
   ]
  },
  {
   "cell_type": "code",
   "execution_count": 18,
   "id": "2845a6c0",
   "metadata": {
    "id": "2845a6c0"
   },
   "outputs": [],
   "source": [
    "class_headers = {46:[295,267.5,222.5,195,177.5,152.5,135]}\n",
    "tmp_list = class_headers[weight_class]\n",
    "difference = lambda tmp_list : abs(tmp_list - lift_total)\n",
    "relative_total = min(tmp_list, key=difference)\n",
    "#print(f\"Relative Total: {relative_total}\")\n",
    "\n",
    "classifications = {46:{295:\"CMS\",267.5:\"I\",222.5:\"II\",195:\"III\",177.5:\"I Junior\",152.5:\"II Junior\",135:\"III Junior\"},\n",
    "                   49:{315:\"CMS\",282.5:\"I\",237.5:\"II\",215:\"III\",192.5:\"I Junior\",175:\"152.5\",150:\"III Junior\"},\n",
    "                   53:{450:\"MSIC\",387.5:\"MS\",335:\"CMS\",295:\"I\",252.5:\"II\",230:\"III\",205:\"I Junior\",185:\"II Junior\",170:\"III Junior\"},\n",
    "                   59:{512.5:\"MSIC\",417.5:\"MS\",362.5:\"CMS\",315:\"I\",272.5:\"II\",255:\"III\",232.5:\"I Junior\",212.5:\"II Junior\",190:\"III Junior\"},\n",
    "                   66:{595:\"MSIC\",475:\"MS\",405:\"CMS\",345:\"I\",302.5:\"II\",287.5:\"III\",260:\"I Junior\",237.5:\"II Junior\",210:\"III Junior\"},\n",
    "                   74:{667.5:\"MSIC\",532:\"MS\",452.5:\"CMS\",382.5:\"I\",335:\"II\",307.5:\"III\",282.5:\"I Junior\",255:\"II Junior\",230:\"III Junior\"},\n",
    "                   83:{745:\"MSIC\",585:\"MS\",497.5:\"CMS\",415:\"I\",377.5:\"II\",352.5:\"III\",325:\"I Junior\",282.5:\"II Junior\",255:\"III Junior\"},\n",
    "                   93:{790:\"MSIC\",627.5:\"MS\",532.5:\"CMS\",462.5:\"I\",417.5:\"II\",372.5:\"III\",342.5:\"I Junior\",305:\"II Junior\",280:\"III Junior\"},\n",
    "                   105:{827.5:\"MSIC\",665:\"MS\",567.5:\"CMS\",500:\"I\",447.5:\"II\",417.5:\"III\",365:\"I Junior\",332.5:\"II Junior\",305:\"III Junior\"},\n",
    "                   120:{860:\"MSIC\",707.5:\"MS\",602.5:\"CMS\",527.5:\"I\",472.5:\"II\",437.5:\"III\",385:\"I Junior\",345:\"II Junior\",325:\"III Junior\"},\n",
    "                   }\n",
    "lifter_classification = classifications[weight_class][relative_total]\n",
    "#print(f\"Classification is: {lifter_classification}\")\n",
    "\n",
    "program_type = \"\"\n",
    "if lifter_classification in [\"CMS\",\"MS\", \"MSIC\"]:\n",
    "  program_type = \"Advanced\"\n",
    "elif lifter_classification in [\"II\", \"I\"]:\n",
    "  program_type = \"Intermediate\"\n",
    "else:\n",
    "  program_type = \"Beginner\"  \n",
    "#print(f\"Program type: {program_type}\")"
   ]
  },
  {
   "cell_type": "markdown",
   "id": "DwObuQCYGjqO",
   "metadata": {
    "id": "DwObuQCYGjqO"
   },
   "source": [
    "### 5. Find load classification using bodyweight\n",
    "This is based off of anecdotal evidence from Sheiko's book"
   ]
  },
  {
   "cell_type": "code",
   "execution_count": 19,
   "id": "txRxZCpRGioX",
   "metadata": {
    "id": "txRxZCpRGioX"
   },
   "outputs": [],
   "source": [
    "load_class = \"\"\n",
    "if weight_class <= 80:\n",
    "  load_class = \"Large\"\n",
    "elif (weight_class > 80) and (weight_class < 110):\n",
    "  load_class = \"Medium\"\n",
    "else:\n",
    "  load_class = \"Small\"\n",
    "#print(f\"Load class: {load_class}\")"
   ]
  },
  {
   "cell_type": "markdown",
   "id": "hnggEGf1GKEs",
   "metadata": {
    "id": "hnggEGf1GKEs"
   },
   "source": [
    "### 6. Summary display of all the user data"
   ]
  },
  {
   "cell_type": "code",
   "execution_count": 20,
   "id": "60e0b18a",
   "metadata": {
    "colab": {
     "base_uri": "https://localhost:8080/"
    },
    "id": "60e0b18a",
    "outputId": "6e70d6bb-c447-4675-f5c1-c2dc28dadd90"
   },
   "outputs": [
    {
     "name": "stdout",
     "output_type": "stream",
     "text": [
      "Weight class is: 46\n",
      "Relative Total: 135\n",
      "Classification is: III Junior\n",
      "Program type: Beginner\n",
      "Load class: Large\n"
     ]
    }
   ],
   "source": [
    "print(f\"Weight class is: {weight_class}\")\n",
    "print(f\"Relative Total: {relative_total}\")\n",
    "print(f\"Classification is: {lifter_classification}\")\n",
    "print(f\"Program type: {program_type}\")\n",
    "print(f\"Load class: {load_class}\")"
   ]
  },
  {
   "cell_type": "markdown",
   "id": "MYSel-lPHRSZ",
   "metadata": {
    "id": "MYSel-lPHRSZ"
   },
   "source": [
    "### 7. Render Program based off of Lifter Classification and Load Type (WIP)\n",
    "- Only have the beginner programs implemented at the moment\n",
    "- Program rendering is a basic print function ATM. Will be updating to include LaTex and PDF exporting support\n",
    "- Working on a easier way to program different exercises"
   ]
  },
  {
   "cell_type": "code",
   "execution_count": 21,
   "id": "LxmYWecxHxE0",
   "metadata": {
    "colab": {
     "base_uri": "https://localhost:8080/"
    },
    "id": "LxmYWecxHxE0",
    "outputId": "71141d7f-ff5e-4b9f-a9db-ab88a3994827"
   },
   "outputs": [
    {
     "ename": "AttributeError",
     "evalue": "module 'sheikoalgo' has no attribute 'render_beginner'",
     "output_type": "error",
     "traceback": [
      "\u001b[0;31m---------------------------------------------------------------------------\u001b[0m",
      "\u001b[0;31mAttributeError\u001b[0m                            Traceback (most recent call last)",
      "\u001b[0;32m/var/folders/5m/jjf2d80516q3311f0dzfbw100000gn/T/ipykernel_4233/1204265987.py\u001b[0m in \u001b[0;36m<module>\u001b[0;34m\u001b[0m\n\u001b[1;32m      1\u001b[0m \u001b[0;32mif\u001b[0m \u001b[0mprogram_type\u001b[0m \u001b[0;34m==\u001b[0m \u001b[0;34m\"Beginner\"\u001b[0m\u001b[0;34m:\u001b[0m\u001b[0;34m\u001b[0m\u001b[0;34m\u001b[0m\u001b[0m\n\u001b[0;32m----> 2\u001b[0;31m     \u001b[0mshego\u001b[0m\u001b[0;34m.\u001b[0m\u001b[0mrender_beginner\u001b[0m\u001b[0;34m(\u001b[0m\u001b[0msquat\u001b[0m\u001b[0;34m,\u001b[0m\u001b[0mbench\u001b[0m\u001b[0;34m,\u001b[0m\u001b[0mdeadlift\u001b[0m\u001b[0;34m)\u001b[0m\u001b[0;34m\u001b[0m\u001b[0;34m\u001b[0m\u001b[0m\n\u001b[0m",
      "\u001b[0;31mAttributeError\u001b[0m: module 'sheikoalgo' has no attribute 'render_beginner'"
     ]
    }
   ],
   "source": [
    "if program_type == \"Beginner\":\n",
    "    shego.render_beginner(squat,bench,deadlift)\n"
   ]
  },
  {
   "cell_type": "code",
   "execution_count": null,
   "id": "5a98b989",
   "metadata": {},
   "outputs": [],
   "source": []
  },
  {
   "cell_type": "code",
   "execution_count": null,
   "id": "aef82456",
   "metadata": {},
   "outputs": [],
   "source": []
  },
  {
   "cell_type": "code",
   "execution_count": null,
   "id": "b8ce640a",
   "metadata": {},
   "outputs": [],
   "source": []
  }
 ],
 "metadata": {
  "colab": {
   "provenance": []
  },
  "kernelspec": {
   "display_name": "Python 3 (ipykernel)",
   "language": "python",
   "name": "python3"
  },
  "language_info": {
   "codemirror_mode": {
    "name": "ipython",
    "version": 3
   },
   "file_extension": ".py",
   "mimetype": "text/x-python",
   "name": "python",
   "nbconvert_exporter": "python",
   "pygments_lexer": "ipython3",
   "version": "3.9.13"
  },
  "vscode": {
   "interpreter": {
    "hash": "1a1af0ee75eeea9e2e1ee996c87e7a2b11a0bebd85af04bb136d915cefc0abce"
   }
  }
 },
 "nbformat": 4,
 "nbformat_minor": 5
}
